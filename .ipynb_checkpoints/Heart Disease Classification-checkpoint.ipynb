{
 "cells": [
  {
   "cell_type": "markdown",
   "id": "d1c2ee67",
   "metadata": {
    "Collapsed": "false"
   },
   "source": [
    "# Heart Disease Prediction\n",
    "\n",
    "This notebook is based on the following notebook from the Udemy course \"Complete ML & Data Science Bootcamp 2023\": [Zero to Mastery ML - Heart Disease Classification](https://github.com/mrdbourke/zero-to-mastery-ml/blob/master/section-3-structured-data-projects/end-to-end-heart-disease-classification.ipynb) \n",
    "\n",
    "Here we are following the same methodology but using a different dataset to compare to the dataset used by the original project. \n",
    "The data set(s) are collected from the [UCI ML Repository](https://archive.ics.uci.edu/dataset/45/heart+disease).\n",
    "\n",
    "### **Table of Contents**\n",
    "  -  [1. Problem Definition](#problem-definition)\n",
    "  -  [2. Data](#data)\n",
    "  -  [3. Evaluation](#evaluation)\n",
    "  -  [4. Feature Selection](#feature-selection)\n",
    "  -  [5. Modeling](#Modeling)"
   ]
  },
  {
   "cell_type": "markdown",
   "id": "613a4ef8",
   "metadata": {
    "Collapsed": "true",
    "jp-MarkdownHeadingCollapsed": true,
    "tags": []
   },
   "source": [
    "## 1. Problem Definition"
   ]
  },
  {
   "cell_type": "markdown",
   "id": "8a95084b",
   "metadata": {
    "Collapsed": "false"
   },
   "source": [
    "\n",
    "The goal is to predict whether a patient has heart disease or not given a set of features. This is a binary classification problem since there are only two possible results: \n",
    "  -  1 = Heart Disease\n",
    "  -  0 = No Heart Disease"
   ]
  },
  {
   "cell_type": "markdown",
   "id": "01431b59",
   "metadata": {
    "Collapsed": "false",
    "jp-MarkdownHeadingCollapsed": true,
    "tags": []
   },
   "source": [
    "## 2. Data"
   ]
  },
  {
   "cell_type": "markdown",
   "id": "b7d0491b",
   "metadata": {
    "Collapsed": "false"
   },
   "source": [
    "\n",
    "The original notebook used the Cleaveland dataset only: [UCI ML Repository](https://archive.ics.uci.edu/dataset/45/heart+disease). \n",
    "\n",
    "Here we will be using that as well as Hungarian, Switzerland, and VA data sets. The full dataset contains 76 features but we will only be using 13 plus the target variable. These features are defined in the Features section."
   ]
  },
  {
   "cell_type": "markdown",
   "id": "4703f178",
   "metadata": {
    "Collapsed": "false",
    "tags": []
   },
   "source": [
    "## 3. Evaluation"
   ]
  },
  {
   "cell_type": "markdown",
   "id": "114920d4-34ba-443a-bc6a-6387e08075af",
   "metadata": {
    "Collapsed": "false"
   },
   "source": [
    "There are a few metric goal:\n",
    "  -  Reach at least 95% _Accuracy_\n",
    "  -  Minimize _False Negatives_\n",
    "  -  Maximize _True Positives_\n",
    "  -  Maximize _True Negatives_"
   ]
  },
  {
   "cell_type": "markdown",
   "id": "e619c351-1dec-40a7-a6dc-b709634aad79",
   "metadata": {
    "jp-MarkdownHeadingCollapsed": true,
    "tags": []
   },
   "source": [
    "## 4. Feature Selection"
   ]
  },
  {
   "cell_type": "markdown",
   "id": "92143126",
   "metadata": {
    "Collapsed": "false",
    "tags": []
   },
   "source": [
    "\n",
    "We will start with the following features:\n",
    "  -  **age**:  age in years\n",
    "  -  **sex**:  sex (1 = male; 0 = female)\n",
    "  -  **cp**:  chest pain type\n",
    "     -   1 = typical angina\n",
    "     -   2 = atypical angina\n",
    "     -   3 = non-anginal pain\n",
    "     -   4 = asymptomatic\n",
    "  -  **trestbps**:  resting blood pressure (in mm Hg on admission to the\n",
    "     -   anything above 130-140 is typically cause for concern\n",
    "        hospital)\n",
    "  -  **chol**:  serum cholestoral in mg/dl\n",
    "     -   serum = LDL + HDL + .2 * triglycerides\n",
    "     -   above 200 is cause for concern\n",
    "  -  **fbs**:  fasting blood sugar > 120 mg/dl (1 = true; 0 = false)\n",
    "     -   '>126' mg/dL signals diabetes\n",
    "  -  **restecg**:  resting electrocardiographic results\n",
    "     -   0 = normal\n",
    "     -   1 = having ST-T wave abnormality (T wave inversions and/or ST elevation or depression of > 0.05 mV)\n",
    "         -    signals abnormal heart beat\n",
    "     -   2 = showing probable or definite left ventricular hypertrophy by Estes' criteria (enlarged heart)\n",
    "  -  **thalach**:  maximum heart rate achieved\n",
    "  -  **exang**:  exercise induced angina (1 = yes; 0 = no)\n",
    "  -  **oldpeak**:  ST depression induced by exercise relative to rest\n",
    "  -  **slope**:  the slope of the peak exercise ST segment\n",
    "     -   1 = upsloping\n",
    "     -   2 = flat\n",
    "     -   3 = downsloping\n",
    "  -  **ca**:  number of major vessels (0-3) colored by flourosopy (more is better)\n",
    "  -  **thal**:  3 = normal; 6 = fixed defect; 7 = reversable defect\n",
    "  -  **num (aka target)**: the predicted attribute\n",
    "  \n",
    "In a separate experiment, it was found that the following 9 features produced better results:\n",
    "\n",
    "    * cp        * age       \n",
    "    * exang     * fbs      \n",
    "    * slope     * restecg\n",
    "    * thal      * oldpeak      \n",
    "    * ca\n"
   ]
  },
  {
   "cell_type": "markdown",
   "id": "34a30427",
   "metadata": {
    "Collapsed": "false",
    "tags": []
   },
   "source": [
    "## 5. Modelling"
   ]
  },
  {
   "cell_type": "markdown",
   "id": "4228b4e4-0823-4f52-8393-4d952b2a209e",
   "metadata": {
    "tags": []
   },
   "source": [
    "### Importing all required packages"
   ]
  },
  {
   "cell_type": "code",
   "execution_count": 34,
   "id": "efcb7b5e",
   "metadata": {
    "Collapsed": "false",
    "scrolled": true,
    "tags": []
   },
   "outputs": [
    {
     "name": "stdout",
     "output_type": "stream",
     "text": [
      "Last updated: Fri Sep 15 23:21:30 2023\n"
     ]
    }
   ],
   "source": [
    "## Import all Packages that will be used\n",
    "import numpy as np \n",
    "import pandas as pd \n",
    "import matplotlib.pyplot as plt\n",
    "import seaborn as sns\n",
    "plt.style.use('seaborn-v0_8-darkgrid')\n",
    "\n",
    "## Display plots in the notebook\n",
    "%matplotlib inline\n",
    "\n",
    "## Models\n",
    "from sklearn.linear_model import LogisticRegression\n",
    "from sklearn.neighbors import KNeighborsClassifier\n",
    "from sklearn.ensemble import RandomForestClassifier\n",
    "\n",
    "## Model evaluators\n",
    "from sklearn.model_selection import train_test_split, cross_val_score\n",
    "from sklearn.model_selection import RandomizedSearchCV, GridSearchCV\n",
    "from sklearn.metrics import confusion_matrix, classification_report\n",
    "from sklearn.metrics import precision_score, recall_score, f1_score\n",
    "from sklearn.metrics import RocCurveDisplay\n",
    "\n",
    "## Print last run time\n",
    "import time\n",
    "print(f\"Last updated: {time.asctime()}\")"
   ]
  },
  {
   "cell_type": "markdown",
   "id": "2a8323cf-2e92-42e1-8731-c3cbe1f1082f",
   "metadata": {
    "jp-MarkdownHeadingCollapsed": true,
    "tags": []
   },
   "source": [
    "### Import Data Sets"
   ]
  },
  {
   "cell_type": "code",
   "execution_count": 20,
   "id": "33f39ee2",
   "metadata": {
    "Collapsed": "false",
    "tags": []
   },
   "outputs": [
    {
     "name": "stdout",
     "output_type": "stream",
     "text": [
      "(200, 14) (303, 14) (294, 14) (123, 14) target\n",
      "1    509\n",
      "0    411\n",
      "Name: count, dtype: int64\n"
     ]
    }
   ],
   "source": [
    "## Import Data Sets\n",
    "df_va = pd.read_csv(\"data/processed.va.data\")\n",
    "df_cl = pd.read_csv(\"data/processed.cleveland.data\")\n",
    "df_hung = pd.read_csv(\"data/reprocessed.hungarian.data\")\n",
    "df_swl = pd.read_csv(\"data/processed.switzerland.data\")\n",
    "df_original = pd.read_csv(\"data/heart-disease.csv\")\n",
    "\n",
    "## Concatenate to one DF\n",
    "df_all = pd.concat([df_va, df_cl, df_hung, df_swl])\n",
    "\n",
    "# Replace the target values 2,3,4 with 1 to make it binary.\n",
    "df_all_binary = df_all\n",
    "df_all_binary.target.replace([2,3,4], 1, inplace=True)\n",
    "target_counts = df_all_binary.target.value_counts()\n",
    "\n",
    "print(df_va.shape, df_cl.shape, df_hung.shape, df_swl.shape, target_counts)"
   ]
  },
  {
   "cell_type": "markdown",
   "id": "31770e03",
   "metadata": {
    "Collapsed": "false",
    "tags": []
   },
   "source": [
    "### Data Pre-processing"
   ]
  },
  {
   "cell_type": "markdown",
   "id": "eac4729a-ce2c-41ad-aef5-815257de5f64",
   "metadata": {
    "jp-MarkdownHeadingCollapsed": true,
    "tags": []
   },
   "source": [
    "#### Initial exploration"
   ]
  },
  {
   "cell_type": "code",
   "execution_count": 3,
   "id": "db253390",
   "metadata": {
    "Collapsed": "false",
    "tags": []
   },
   "outputs": [
    {
     "data": {
      "text/html": [
       "<div>\n",
       "<style scoped>\n",
       "    .dataframe tbody tr th:only-of-type {\n",
       "        vertical-align: middle;\n",
       "    }\n",
       "\n",
       "    .dataframe tbody tr th {\n",
       "        vertical-align: top;\n",
       "    }\n",
       "\n",
       "    .dataframe thead th {\n",
       "        text-align: right;\n",
       "    }\n",
       "</style>\n",
       "<table border=\"1\" class=\"dataframe\">\n",
       "  <thead>\n",
       "    <tr style=\"text-align: right;\">\n",
       "      <th></th>\n",
       "      <th>age</th>\n",
       "      <th>sex</th>\n",
       "      <th>cp</th>\n",
       "      <th>trestbps</th>\n",
       "      <th>chol</th>\n",
       "      <th>fbs</th>\n",
       "      <th>restecg</th>\n",
       "      <th>thalach</th>\n",
       "      <th>exang</th>\n",
       "      <th>oldpeak</th>\n",
       "      <th>slope</th>\n",
       "      <th>ca</th>\n",
       "      <th>thal</th>\n",
       "      <th>target</th>\n",
       "    </tr>\n",
       "  </thead>\n",
       "  <tbody>\n",
       "    <tr>\n",
       "      <th>0</th>\n",
       "      <td>63</td>\n",
       "      <td>1</td>\n",
       "      <td>4</td>\n",
       "      <td>140.0</td>\n",
       "      <td>260.0</td>\n",
       "      <td>0.0</td>\n",
       "      <td>1</td>\n",
       "      <td>112.0</td>\n",
       "      <td>1.0</td>\n",
       "      <td>3.0</td>\n",
       "      <td>2.0</td>\n",
       "      <td>NaN</td>\n",
       "      <td>NaN</td>\n",
       "      <td>2</td>\n",
       "    </tr>\n",
       "    <tr>\n",
       "      <th>1</th>\n",
       "      <td>44</td>\n",
       "      <td>1</td>\n",
       "      <td>4</td>\n",
       "      <td>130.0</td>\n",
       "      <td>209.0</td>\n",
       "      <td>0.0</td>\n",
       "      <td>1</td>\n",
       "      <td>127.0</td>\n",
       "      <td>0.0</td>\n",
       "      <td>0.0</td>\n",
       "      <td>NaN</td>\n",
       "      <td>NaN</td>\n",
       "      <td>NaN</td>\n",
       "      <td>0</td>\n",
       "    </tr>\n",
       "    <tr>\n",
       "      <th>2</th>\n",
       "      <td>60</td>\n",
       "      <td>1</td>\n",
       "      <td>4</td>\n",
       "      <td>132.0</td>\n",
       "      <td>218.0</td>\n",
       "      <td>0.0</td>\n",
       "      <td>1</td>\n",
       "      <td>140.0</td>\n",
       "      <td>1.0</td>\n",
       "      <td>1.5</td>\n",
       "      <td>3.0</td>\n",
       "      <td>NaN</td>\n",
       "      <td>NaN</td>\n",
       "      <td>2</td>\n",
       "    </tr>\n",
       "  </tbody>\n",
       "</table>\n",
       "</div>"
      ],
      "text/plain": [
       "   age  sex  cp  trestbps   chol  fbs  restecg  thalach  exang  oldpeak  \\\n",
       "0   63    1   4     140.0  260.0  0.0        1    112.0    1.0      3.0   \n",
       "1   44    1   4     130.0  209.0  0.0        1    127.0    0.0      0.0   \n",
       "2   60    1   4     132.0  218.0  0.0        1    140.0    1.0      1.5   \n",
       "\n",
       "   slope  ca  thal  target  \n",
       "0    2.0 NaN   NaN       2  \n",
       "1    NaN NaN   NaN       0  \n",
       "2    3.0 NaN   NaN       2  "
      ]
     },
     "execution_count": 3,
     "metadata": {},
     "output_type": "execute_result"
    }
   ],
   "source": [
    "## Data Exploration\n",
    "df_va.head(3)\n",
    "#df_cl.head(3)\n",
    "#df_hung.head(3)\n",
    "#df_swl.head(3)"
   ]
  },
  {
   "cell_type": "code",
   "execution_count": 4,
   "id": "cd02a31d",
   "metadata": {
    "Collapsed": "false",
    "tags": []
   },
   "outputs": [],
   "source": [
    "#df_va.info()\n",
    "#df_cl.info()\n",
    "#df_hung.info()\n",
    "#df_swl.info()"
   ]
  },
  {
   "cell_type": "markdown",
   "id": "b72c2ebe-d60b-4719-8a4e-05f130d825b2",
   "metadata": {
    "Collapsed": "false",
    "jp-MarkdownHeadingCollapsed": true,
    "tags": []
   },
   "source": [
    "#### Custom fuctions"
   ]
  },
  {
   "cell_type": "code",
   "execution_count": 5,
   "id": "cb3b7133-80d0-4ba2-b0f0-a2e0d7ad03e5",
   "metadata": {
    "Collapsed": "false",
    "tags": []
   },
   "outputs": [],
   "source": [
    "## From the info above, we see some columns are strings not ints\n",
    "def delete_NaN_rows(df):\n",
    "    index_to_delete = []\n",
    "    for i in df.itertuples():\n",
    "        index = i[0]\n",
    "        cols = df_swl.columns\n",
    "        i = list(i)\n",
    "        del i[0]\n",
    "        #print(i)\n",
    "\n",
    "        nan_count=0\n",
    "        key=0\n",
    "        for data in i:\n",
    "            #print(\"Key: \", key)\n",
    "            #print(\"data: \", data)\n",
    "            if pd.isna(data) or pd.isnull(data) or data == 'nan':\n",
    "                #print(\"Is NaN\")\n",
    "                nan_count += 1\n",
    "            key += 1\n",
    "            #break;\n",
    "        #print(f\"Nan Count for {index}: \", nan_count)\n",
    "        if nan_count >= 5:\n",
    "            index_to_delete.append(index)\n",
    "\n",
    "        #break;\n",
    "\n",
    "    print(\"Rows to Delete: \", index_to_delete)\n",
    "    \n",
    "    return df.drop(index_to_delete)\n",
    "\n"
   ]
  },
  {
   "cell_type": "markdown",
   "id": "955d1b7b-253e-4140-a551-1f0a1df48760",
   "metadata": {
    "jp-MarkdownHeadingCollapsed": true,
    "tags": []
   },
   "source": [
    "#### Delete NaN rows"
   ]
  },
  {
   "cell_type": "code",
   "execution_count": 8,
   "id": "d9eb3f72",
   "metadata": {
    "Collapsed": "false",
    "tags": []
   },
   "outputs": [
    {
     "name": "stdout",
     "output_type": "stream",
     "text": [
      "(920, 14)\n",
      "Rows to Delete:  [13, 23, 26, 29, 30, 36, 38, 44, 51, 57, 58, 60, 68, 69, 72, 77, 87, 89, 94, 96, 109, 110, 111, 112, 113, 114, 115, 119, 120, 124, 129, 133, 136, 137, 141, 142, 144, 145, 147, 149, 155, 158, 159, 161, 163, 164, 167, 168, 174, 181, 185, 196, 198, 289, 2, 39, 117]\n",
      "(920, 14)\n"
     ]
    }
   ],
   "source": [
    "# For each DF, remove the rows with excessive NaN values\n",
    "#df_va\n",
    "#df_cl\n",
    "#df_hung\n",
    "#df_swl\n",
    "print(df_all_binary.shape)\n",
    "df_all_binary_rows = delete_NaN_rows(df_all_binary)\n",
    "print(df_all_binary.shape)"
   ]
  },
  {
   "cell_type": "markdown",
   "id": "2e98fe03-af55-4d0d-b020-205a5ce74af8",
   "metadata": {
    "jp-MarkdownHeadingCollapsed": true,
    "tags": []
   },
   "source": [
    "#### Check NaN Values\n",
    "After deleting rows with more than 5 NaN cols"
   ]
  },
  {
   "cell_type": "code",
   "execution_count": 12,
   "id": "ed6bdd4b",
   "metadata": {
    "Collapsed": "false",
    "tags": []
   },
   "outputs": [
    {
     "name": "stdout",
     "output_type": "stream",
     "text": [
      "df_all_binary_rows:  718\n",
      "age           0\n",
      "sex           0\n",
      "cp            0\n",
      "trestbps      3\n",
      "chol         24\n",
      "fbs          71\n",
      "restecg       2\n",
      "thalach       0\n",
      "exang         0\n",
      "oldpeak       5\n",
      "slope       221\n",
      "ca          469\n",
      "thal        360\n",
      "target        0\n",
      "dtype: int64\n",
      "\n",
      "df_original: 303\n",
      "age         0\n",
      "sex         0\n",
      "cp          0\n",
      "trestbps    0\n",
      "chol        0\n",
      "fbs         0\n",
      "restecg     0\n",
      "thalach     0\n",
      "exang       0\n",
      "oldpeak     0\n",
      "slope       0\n",
      "ca          0\n",
      "thal        0\n",
      "target      0\n",
      "dtype: int64\n"
     ]
    }
   ],
   "source": [
    "## Check NaN values\n",
    "print(\"df_all_binary_rows: \", len(df_all_binary_rows))\n",
    "print(df_all_binary_rows.isna().sum())\n",
    "print(\"\\ndf_original:\", len(df_original))\n",
    "print(df_original.isna().sum())"
   ]
  },
  {
   "cell_type": "markdown",
   "id": "977dbb1e-0138-42dc-be54-d134d90a1cf8",
   "metadata": {
    "Collapsed": "false",
    "jp-MarkdownHeadingCollapsed": true,
    "tags": []
   },
   "source": [
    "#### Count NaN vals All\n",
    "Counting NaN vals for entire New data set (not with delted rows)"
   ]
  },
  {
   "cell_type": "code",
   "execution_count": 13,
   "id": "30e3449e",
   "metadata": {
    "Collapsed": "false",
    "tags": []
   },
   "outputs": [
    {
     "name": "stdout",
     "output_type": "stream",
     "text": [
      "age           0\n",
      "sex           0\n",
      "cp            0\n",
      "trestbps     59\n",
      "chol         30\n",
      "fbs          90\n",
      "restecg       2\n",
      "thalach      55\n",
      "exang        55\n",
      "oldpeak      62\n",
      "slope       309\n",
      "ca          610\n",
      "thal        486\n",
      "target        0\n",
      "dtype: int64\n"
     ]
    }
   ],
   "source": [
    "## Count NA vals\n",
    "print(df_all_binary.isna().sum())\n",
    "\n",
    "# The columns with Nan values:\n",
    "# trestbps  3    resting blood pressure (in mm Hg) -> MEAN\n",
    "# chol      27   Cholesterol level in mg/dlin mg/dl -> MEAN\n",
    "# fbs       88   fasting blood sugar > 120 mg/dl    -> DROP\n",
    "                    # 0 = blood sugar < 120 mg/dl\n",
    "                    # 1 = blood sugar > 120 mg/dl\n",
    "# oldpeak   6    ST depression induced by exercise relative to rest -> MEAN\n",
    "# slope     253  the slope of the peak exercise ST segment -> DROP\n",
    "                    # 1 = upsloping\n",
    "                    # 2 = flat\n",
    "                    # 3 = downsloping\n",
    "# ca        553  number of major vessels (0-3) colored by flourosopy -> 9 or DROP\n",
    "# thal      432  3 = normal; 6 = fixed defect; 7 = reversable defect -> DROP"
   ]
  },
  {
   "cell_type": "markdown",
   "id": "a05dc8e0-dc6a-4afe-8ee7-ed4b891466fc",
   "metadata": {
    "jp-MarkdownHeadingCollapsed": true,
    "tags": []
   },
   "source": [
    "#### Create 2 DF\n",
    "df_rows_del = df_all_binary with rows of column (ca,thal, slope, fbs) Nan vals removed\n",
    "\n",
    "df_cols_del = df_all_binary with columns ca,thal, slope, fbs"
   ]
  },
  {
   "cell_type": "code",
   "execution_count": 42,
   "id": "744f493e",
   "metadata": {
    "Collapsed": "false",
    "tags": []
   },
   "outputs": [
    {
     "name": "stdout",
     "output_type": "stream",
     "text": [
      "Rows Removed:  len=299\n",
      " age         0\n",
      "sex         0\n",
      "cp          0\n",
      "trestbps    0\n",
      "chol        0\n",
      "fbs         0\n",
      "restecg     0\n",
      "thalach     0\n",
      "exang       0\n",
      "oldpeak     0\n",
      "slope       0\n",
      "ca          0\n",
      "thal        0\n",
      "target      0\n",
      "dtype: int64\n",
      "\n",
      "Cols Removed:  len=920\n",
      " age          0\n",
      "sex          0\n",
      "cp           0\n",
      "trestbps    59\n",
      "chol        30\n",
      "thalach     55\n",
      "oldpeak     62\n",
      "target       0\n",
      "dtype: int64\n"
     ]
    }
   ],
   "source": [
    "# Creating 2 DFs\n",
    "df_rows_del = df_all_binary.dropna(subset=[\"fbs\", \"thal\", \"ca\", \"slope\"])\n",
    "df_cols_del = df_all_binary.drop([\"fbs\", \"thal\", \"ca\", \"slope\", \"restecg\", \"exang\"], axis=1)\n",
    "# trestbps, chol, oldpeak, thalach -> mean\n",
    "\n",
    "print(f\"Rows Removed:  len={len(df_rows_del)}\\n\", df_rows_del.isna().sum())\n",
    "print(f\"\\nCols Removed:  len={len(df_cols_del)}\\n\",df_cols_del.isna().sum())"
   ]
  },
  {
   "cell_type": "markdown",
   "id": "8bca5db0-053b-4ced-b635-ab7a293079e8",
   "metadata": {
    "jp-MarkdownHeadingCollapsed": true,
    "tags": []
   },
   "source": [
    "#### View Target counts for all data sets"
   ]
  },
  {
   "cell_type": "code",
   "execution_count": 16,
   "id": "2eeb98c4",
   "metadata": {
    "Collapsed": "false",
    "tags": []
   },
   "outputs": [
    {
     "name": "stdout",
     "output_type": "stream",
     "text": [
      "All Data:  target\n",
      "1    509\n",
      "0    411\n",
      "Name: count, dtype: int64\n",
      "\n",
      "df_original:  target\n",
      "1    165\n",
      "0    138\n",
      "Name: count, dtype: int64\n",
      "\n",
      "Rows Removed:  \n",
      " target\n",
      "0    160\n",
      "1    139\n",
      "Name: count, dtype: int64\n",
      "\n",
      "Cols Removed:  \n",
      " target\n",
      "1    509\n",
      "0    411\n",
      "Name: count, dtype: int64\n"
     ]
    }
   ],
   "source": [
    "print(\"All Data: \", df_all_binary.target.value_counts())\n",
    "print(\"\\ndf_original: \", df_original.target.value_counts())\n",
    "print(\"\\nRows Removed:  \\n\", \n",
    "      df_rows_del.target.value_counts())\n",
    "print(\"\\nCols Removed:  \\n\",\n",
    "      df_cols_del.target.value_counts())"
   ]
  },
  {
   "cell_type": "markdown",
   "id": "3ea2c6be-801e-42b6-9b0d-0f9e89cd8b94",
   "metadata": {
    "jp-MarkdownHeadingCollapsed": true,
    "tags": []
   },
   "source": [
    "#### Crosstab of Target vs thal"
   ]
  },
  {
   "cell_type": "code",
   "execution_count": 22,
   "id": "8eef8793",
   "metadata": {
    "Collapsed": "false",
    "tags": []
   },
   "outputs": [
    {
     "name": "stdout",
     "output_type": "stream",
     "text": [
      "All Data: \n",
      " thal    3.0  6.0  7.0\n",
      "target               \n",
      "0       138   11   38\n",
      "1        58   35  154\n",
      "\n",
      "Rows Removed:  \n",
      " thal    3.0  6.0  7.0\n",
      "target               \n",
      "0       127    6   27\n",
      "1        37   12   90\n",
      "\n",
      "df_original:  thal    0   1    2   3\n",
      "target                \n",
      "0       1  12   36  89\n",
      "1       1   6  130  28\n"
     ]
    }
   ],
   "source": [
    "crosstab_thal_all = pd.crosstab(df_all_binary.target, df_all_binary.thal)\n",
    "crosstab_thal_row = pd.crosstab(df_rows_del.target, df_rows_del.thal)\n",
    "crosstab_thal_original = pd.crosstab(df_original.target, df_original.thal)\n",
    "\n",
    "print(\"All Data: \\n\", crosstab_thal_all)\n",
    "print(\"\\nRows Removed:  \\n\", crosstab_thal_row)\n",
    "print(\"\\ndf_original: \", crosstab_thal_original)"
   ]
  },
  {
   "cell_type": "markdown",
   "id": "e91c6b8e-7e30-44f7-a93c-3c9589ebc709",
   "metadata": {
    "jp-MarkdownHeadingCollapsed": true,
    "tags": []
   },
   "source": [
    "#### Crosstab of Target vs sex"
   ]
  },
  {
   "cell_type": "code",
   "execution_count": 24,
   "id": "2b30d6a1",
   "metadata": {
    "Collapsed": "false",
    "tags": []
   },
   "outputs": [
    {
     "name": "stdout",
     "output_type": "stream",
     "text": [
      "All Data: \n",
      " sex     0.0  1.0\n",
      "target          \n",
      "0       144  267\n",
      "1        50  459\n",
      "\n",
      "Rows Removed:  \n",
      " sex     0.0  1.0\n",
      "target          \n",
      "0        71   89\n",
      "1        25  114\n",
      "\n",
      "Cols Removed:  \n",
      " sex     0.0  1.0\n",
      "target          \n",
      "0       144  267\n",
      "1        50  459\n",
      "\n",
      "df_original: \n",
      " sex      0    1\n",
      "target         \n",
      "0       24  114\n",
      "1       72   93\n"
     ]
    }
   ],
   "source": [
    "crosstab_sex_all = pd.crosstab(df_all_binary.target, df_all_binary.sex)\n",
    "crosstab_sex_row = pd.crosstab(df_rows_del.target, df_rows_del.sex)\n",
    "crosstab_sex_col = pd.crosstab(df_cols_del.target, df_cols_del.sex)\n",
    "crosstab_sex_original = pd.crosstab(df_original.target, df_original.sex)\n",
    "\n",
    "print(\"All Data: \\n\", crosstab_sex_all)\n",
    "print(\"\\nRows Removed:  \\n\", crosstab_sex_row)\n",
    "print(\"\\nCols Removed:  \\n\", crosstab_sex_col)\n",
    "print(\"\\ndf_original: \\n\", crosstab_sex_original)"
   ]
  },
  {
   "cell_type": "markdown",
   "id": "96be4b84-9b03-4470-a1cd-a97e0ac98b58",
   "metadata": {
    "jp-MarkdownHeadingCollapsed": true,
    "tags": []
   },
   "source": [
    "#### Crosstab of Target vs cp"
   ]
  },
  {
   "cell_type": "code",
   "execution_count": 26,
   "id": "5b9d8809",
   "metadata": {
    "Collapsed": "false",
    "tags": []
   },
   "outputs": [
    {
     "name": "stdout",
     "output_type": "stream",
     "text": [
      "All Data: \n",
      " sex     0.0  1.0\n",
      "target          \n",
      "0       144  267\n",
      "1        50  459\n",
      "\n",
      "Rows Removed:  \n",
      " cp      1.0  2.0  3.0  4.0\n",
      "target                    \n",
      "0        16   40   65   39\n",
      "1         7    9   18  105\n",
      "\n",
      "Cols Removed:  \n",
      " cp      1.0  2.0  3.0  4.0\n",
      "target                    \n",
      "0        26  150  131  104\n",
      "1        20   24   73  392\n",
      "\n",
      "df_original: \n",
      " cp        0   1   2   3\n",
      "target                 \n",
      "0       104   9  18   7\n",
      "1        39  41  69  16\n"
     ]
    }
   ],
   "source": [
    "crosstab_cp = pd.crosstab(df_all_binary.cp, df_all_binary.target)\n",
    "crosstab_cp_row = pd.crosstab(df_rows_del.target, df_rows_del.cp)\n",
    "crosstab_cp_col = pd.crosstab(df_cols_del.target, df_cols_del.cp)\n",
    "crosstab_cp_original = pd.crosstab(df_original.target, df_original.cp)\n",
    "\n",
    "print(\"All Data: \\n\", crosstab_sex_all)\n",
    "print(\"\\nRows Removed:  \\n\", crosstab_cp_row)\n",
    "print(\"\\nCols Removed:  \\n\", crosstab_cp_col)\n",
    "print(\"\\ndf_original: \\n\", crosstab_cp_original)"
   ]
  },
  {
   "cell_type": "markdown",
   "id": "6ef27513",
   "metadata": {
    "Collapsed": "false",
    "jp-MarkdownHeadingCollapsed": true,
    "tags": []
   },
   "source": [
    "#### Data Plots"
   ]
  },
  {
   "cell_type": "code",
   "execution_count": 57,
   "id": "682316bc",
   "metadata": {
    "Collapsed": "false",
    "tags": []
   },
   "outputs": [
    {
     "name": "stderr",
     "output_type": "stream",
     "text": [
      "/tmp/ipykernel_8783/3145802437.py:34: UserWarning: FixedFormatter should only be used together with FixedLocator\n",
      "  ax2.set_xticklabels(ax2.get_xticks(), rotation = 0)\n"
     ]
    },
    {
     "data": {
      "image/png": "[encoded data removed]",
      "text/plain": [
       "<Figure size 1000x1000 with 4 Axes>"
      ]
     },
     "metadata": {},
     "output_type": "display_data"
    }
   ],
   "source": [
    "## Create some plots\n",
    "fig, ((ax0, ax1), (ax2,ax3)) = plt.subplots(nrows=2, \n",
    "                                        ncols=2, \n",
    "                                        figsize=(10,10))\n",
    "\n",
    "target_counts.plot(kind=\"bar\", ax=ax0,\n",
    "                   title=\"Sex Value Counts\",\n",
    "                   xlabel=\"Sex\",\n",
    "                   ylabel=\"Counts\",\n",
    "                   legend=True,\n",
    "                   color=[\"salmon\", \"lightblue\"])\n",
    "crosstab_sex.plot(kind=\"bar\", ax=ax1,\n",
    "                  title=\"Heart Disease Frequency wrt Sex\",\n",
    "                  xlabel=\"0 = No Disease, 1 = Disease\",\n",
    "                  ylabel=\"Count\",\n",
    "                  legend=True,\n",
    "                  color=[\"salmon\", \"lightblue\"])\n",
    "df_all_binary.age.plot(kind=\"hist\", ax=ax2,\n",
    "                  title=\"Age Histogram\",\n",
    "                  xlabel=\"Age\",\n",
    "                  ylabel=\"Frequency\",\n",
    "                  color=[\"lightblue\"])\n",
    "crosstab_cp.plot(kind=\"bar\", ax=ax3,\n",
    "                  title=\"Heart Disease Frequency wrt Chest Pain\",\n",
    "                  xlabel=\"Chest Pain Type\",\n",
    "                  ylabel=\"Count\",\n",
    "                  legend=True,\n",
    "                  color=[\"lightblue\", \"salmon\"])\n",
    "\n",
    "ax0.set_xticklabels(ax0.get_xticks(), rotation = 0)\n",
    "ax0.legend(labels=[\"Female\", \"Male\"])\n",
    "ax1.set_xticklabels(ax1.get_xticks(), rotation = 0)\n",
    "ax1.legend(labels=[\"Female\", \"Male\"])\n",
    "ax2.set_xticklabels(ax2.get_xticks(), rotation = 0)\n",
    "ax3.set_xticklabels(ax3.get_xticks(), rotation = 0)\n",
    "ax3.legend(labels=[\"No Disease\", \"Disease\"]);"
   ]
  },
  {
   "cell_type": "markdown",
   "id": "85167496",
   "metadata": {
    "Collapsed": "false",
    "jp-MarkdownHeadingCollapsed": true,
    "tags": []
   },
   "source": [
    "#### Data Correlation"
   ]
  },
  {
   "cell_type": "code",
   "execution_count": 28,
   "id": "9db34fa3",
   "metadata": {
    "Collapsed": "false",
    "tags": []
   },
   "outputs": [
    {
     "data": {
      "text/html": [
       "<div>\n",
       "<style scoped>\n",
       "    .dataframe tbody tr th:only-of-type {\n",
       "        vertical-align: middle;\n",
       "    }\n",
       "\n",
       "    .dataframe tbody tr th {\n",
       "        vertical-align: top;\n",
       "    }\n",
       "\n",
       "    .dataframe thead th {\n",
       "        text-align: right;\n",
       "    }\n",
       "</style>\n",
       "<table border=\"1\" class=\"dataframe\">\n",
       "  <thead>\n",
       "    <tr style=\"text-align: right;\">\n",
       "      <th></th>\n",
       "      <th>age</th>\n",
       "      <th>sex</th>\n",
       "      <th>cp</th>\n",
       "      <th>trestbps</th>\n",
       "      <th>chol</th>\n",
       "      <th>fbs</th>\n",
       "      <th>restecg</th>\n",
       "      <th>thalach</th>\n",
       "      <th>exang</th>\n",
       "      <th>oldpeak</th>\n",
       "      <th>slope</th>\n",
       "      <th>ca</th>\n",
       "      <th>thal</th>\n",
       "      <th>target</th>\n",
       "    </tr>\n",
       "  </thead>\n",
       "  <tbody>\n",
       "    <tr>\n",
       "      <th>age</th>\n",
       "      <td>1.000000</td>\n",
       "      <td>0.056889</td>\n",
       "      <td>0.166245</td>\n",
       "      <td>0.244253</td>\n",
       "      <td>-0.086234</td>\n",
       "      <td>0.233726</td>\n",
       "      <td>0.212719</td>\n",
       "      <td>-0.365778</td>\n",
       "      <td>0.201626</td>\n",
       "      <td>0.258243</td>\n",
       "      <td>0.155032</td>\n",
       "      <td>0.311194</td>\n",
       "      <td>0.137298</td>\n",
       "      <td>0.282700</td>\n",
       "    </tr>\n",
       "    <tr>\n",
       "      <th>sex</th>\n",
       "      <td>0.056889</td>\n",
       "      <td>1.000000</td>\n",
       "      <td>0.170392</td>\n",
       "      <td>0.001087</td>\n",
       "      <td>-0.197281</td>\n",
       "      <td>0.089191</td>\n",
       "      <td>-0.015612</td>\n",
       "      <td>-0.179320</td>\n",
       "      <td>0.181420</td>\n",
       "      <td>0.103930</td>\n",
       "      <td>0.125154</td>\n",
       "      <td>0.045905</td>\n",
       "      <td>0.373927</td>\n",
       "      <td>0.307284</td>\n",
       "    </tr>\n",
       "    <tr>\n",
       "      <th>cp</th>\n",
       "      <td>0.166245</td>\n",
       "      <td>0.170392</td>\n",
       "      <td>1.000000</td>\n",
       "      <td>0.025075</td>\n",
       "      <td>-0.132576</td>\n",
       "      <td>0.039838</td>\n",
       "      <td>0.031101</td>\n",
       "      <td>-0.349189</td>\n",
       "      <td>0.419384</td>\n",
       "      <td>0.244245</td>\n",
       "      <td>0.202989</td>\n",
       "      <td>0.213678</td>\n",
       "      <td>0.313150</td>\n",
       "      <td>0.471712</td>\n",
       "    </tr>\n",
       "    <tr>\n",
       "      <th>trestbps</th>\n",
       "      <td>0.244253</td>\n",
       "      <td>0.001087</td>\n",
       "      <td>0.025075</td>\n",
       "      <td>1.000000</td>\n",
       "      <td>0.092853</td>\n",
       "      <td>0.160235</td>\n",
       "      <td>0.098857</td>\n",
       "      <td>-0.104899</td>\n",
       "      <td>0.152328</td>\n",
       "      <td>0.161908</td>\n",
       "      <td>0.063387</td>\n",
       "      <td>0.110024</td>\n",
       "      <td>0.107555</td>\n",
       "      <td>0.106233</td>\n",
       "    </tr>\n",
       "    <tr>\n",
       "      <th>chol</th>\n",
       "      <td>-0.086234</td>\n",
       "      <td>-0.197281</td>\n",
       "      <td>-0.132576</td>\n",
       "      <td>0.092853</td>\n",
       "      <td>1.000000</td>\n",
       "      <td>0.024847</td>\n",
       "      <td>0.116494</td>\n",
       "      <td>0.236121</td>\n",
       "      <td>-0.034557</td>\n",
       "      <td>0.047734</td>\n",
       "      <td>-0.059276</td>\n",
       "      <td>0.040043</td>\n",
       "      <td>-0.179903</td>\n",
       "      <td>-0.230583</td>\n",
       "    </tr>\n",
       "    <tr>\n",
       "      <th>fbs</th>\n",
       "      <td>0.233726</td>\n",
       "      <td>0.089191</td>\n",
       "      <td>0.039838</td>\n",
       "      <td>0.160235</td>\n",
       "      <td>0.024847</td>\n",
       "      <td>1.000000</td>\n",
       "      <td>0.132347</td>\n",
       "      <td>-0.053386</td>\n",
       "      <td>0.029176</td>\n",
       "      <td>0.055277</td>\n",
       "      <td>0.092142</td>\n",
       "      <td>0.122318</td>\n",
       "      <td>0.105871</td>\n",
       "      <td>0.142565</td>\n",
       "    </tr>\n",
       "    <tr>\n",
       "      <th>restecg</th>\n",
       "      <td>0.212719</td>\n",
       "      <td>-0.015612</td>\n",
       "      <td>0.031101</td>\n",
       "      <td>0.098857</td>\n",
       "      <td>0.116494</td>\n",
       "      <td>0.132347</td>\n",
       "      <td>1.000000</td>\n",
       "      <td>0.053120</td>\n",
       "      <td>0.032331</td>\n",
       "      <td>0.118297</td>\n",
       "      <td>-0.014771</td>\n",
       "      <td>0.098393</td>\n",
       "      <td>-0.040084</td>\n",
       "      <td>0.063867</td>\n",
       "    </tr>\n",
       "    <tr>\n",
       "      <th>thalach</th>\n",
       "      <td>-0.365778</td>\n",
       "      <td>-0.179320</td>\n",
       "      <td>-0.349189</td>\n",
       "      <td>-0.104899</td>\n",
       "      <td>0.236121</td>\n",
       "      <td>-0.053386</td>\n",
       "      <td>0.053120</td>\n",
       "      <td>1.000000</td>\n",
       "      <td>-0.356439</td>\n",
       "      <td>-0.151174</td>\n",
       "      <td>-0.360622</td>\n",
       "      <td>-0.256214</td>\n",
       "      <td>-0.327360</td>\n",
       "      <td>-0.394503</td>\n",
       "    </tr>\n",
       "    <tr>\n",
       "      <th>exang</th>\n",
       "      <td>0.201626</td>\n",
       "      <td>0.181420</td>\n",
       "      <td>0.419384</td>\n",
       "      <td>0.152328</td>\n",
       "      <td>-0.034557</td>\n",
       "      <td>0.029176</td>\n",
       "      <td>0.032331</td>\n",
       "      <td>-0.356439</td>\n",
       "      <td>1.000000</td>\n",
       "      <td>0.392492</td>\n",
       "      <td>0.319424</td>\n",
       "      <td>0.149447</td>\n",
       "      <td>0.340737</td>\n",
       "      <td>0.463619</td>\n",
       "    </tr>\n",
       "    <tr>\n",
       "      <th>oldpeak</th>\n",
       "      <td>0.258243</td>\n",
       "      <td>0.103930</td>\n",
       "      <td>0.244245</td>\n",
       "      <td>0.161908</td>\n",
       "      <td>0.047734</td>\n",
       "      <td>0.055277</td>\n",
       "      <td>0.118297</td>\n",
       "      <td>-0.151174</td>\n",
       "      <td>0.392492</td>\n",
       "      <td>1.000000</td>\n",
       "      <td>0.421184</td>\n",
       "      <td>0.250485</td>\n",
       "      <td>0.254391</td>\n",
       "      <td>0.385528</td>\n",
       "    </tr>\n",
       "    <tr>\n",
       "      <th>slope</th>\n",
       "      <td>0.155032</td>\n",
       "      <td>0.125154</td>\n",
       "      <td>0.202989</td>\n",
       "      <td>0.063387</td>\n",
       "      <td>-0.059276</td>\n",
       "      <td>0.092142</td>\n",
       "      <td>-0.014771</td>\n",
       "      <td>-0.360622</td>\n",
       "      <td>0.319424</td>\n",
       "      <td>0.421184</td>\n",
       "      <td>1.000000</td>\n",
       "      <td>0.111782</td>\n",
       "      <td>0.290345</td>\n",
       "      <td>0.337086</td>\n",
       "    </tr>\n",
       "    <tr>\n",
       "      <th>ca</th>\n",
       "      <td>0.311194</td>\n",
       "      <td>0.045905</td>\n",
       "      <td>0.213678</td>\n",
       "      <td>0.110024</td>\n",
       "      <td>0.040043</td>\n",
       "      <td>0.122318</td>\n",
       "      <td>0.098393</td>\n",
       "      <td>-0.256214</td>\n",
       "      <td>0.149447</td>\n",
       "      <td>0.250485</td>\n",
       "      <td>0.111782</td>\n",
       "      <td>1.000000</td>\n",
       "      <td>0.249141</td>\n",
       "      <td>0.382010</td>\n",
       "    </tr>\n",
       "    <tr>\n",
       "      <th>thal</th>\n",
       "      <td>0.137298</td>\n",
       "      <td>0.373927</td>\n",
       "      <td>0.313150</td>\n",
       "      <td>0.107555</td>\n",
       "      <td>-0.179903</td>\n",
       "      <td>0.105871</td>\n",
       "      <td>-0.040084</td>\n",
       "      <td>-0.327360</td>\n",
       "      <td>0.340737</td>\n",
       "      <td>0.254391</td>\n",
       "      <td>0.290345</td>\n",
       "      <td>0.249141</td>\n",
       "      <td>1.000000</td>\n",
       "      <td>0.498521</td>\n",
       "    </tr>\n",
       "    <tr>\n",
       "      <th>target</th>\n",
       "      <td>0.282700</td>\n",
       "      <td>0.307284</td>\n",
       "      <td>0.471712</td>\n",
       "      <td>0.106233</td>\n",
       "      <td>-0.230583</td>\n",
       "      <td>0.142565</td>\n",
       "      <td>0.063867</td>\n",
       "      <td>-0.394503</td>\n",
       "      <td>0.463619</td>\n",
       "      <td>0.385528</td>\n",
       "      <td>0.337086</td>\n",
       "      <td>0.382010</td>\n",
       "      <td>0.498521</td>\n",
       "      <td>1.000000</td>\n",
       "    </tr>\n",
       "  </tbody>\n",
       "</table>\n",
       "</div>"
      ],
      "text/plain": [
       "               age       sex        cp  trestbps      chol       fbs  \\\n",
       "age       1.000000  0.056889  0.166245  0.244253 -0.086234  0.233726   \n",
       "sex       0.056889  1.000000  0.170392  0.001087 -0.197281  0.089191   \n",
       "cp        0.166245  0.170392  1.000000  0.025075 -0.132576  0.039838   \n",
       "trestbps  0.244253  0.001087  0.025075  1.000000  0.092853  0.160235   \n",
       "chol     -0.086234 -0.197281 -0.132576  0.092853  1.000000  0.024847   \n",
       "fbs       0.233726  0.089191  0.039838  0.160235  0.024847  1.000000   \n",
       "restecg   0.212719 -0.015612  0.031101  0.098857  0.116494  0.132347   \n",
       "thalach  -0.365778 -0.179320 -0.349189 -0.104899  0.236121 -0.053386   \n",
       "exang     0.201626  0.181420  0.419384  0.152328 -0.034557  0.029176   \n",
       "oldpeak   0.258243  0.103930  0.244245  0.161908  0.047734  0.055277   \n",
       "slope     0.155032  0.125154  0.202989  0.063387 -0.059276  0.092142   \n",
       "ca        0.311194  0.045905  0.213678  0.110024  0.040043  0.122318   \n",
       "thal      0.137298  0.373927  0.313150  0.107555 -0.179903  0.105871   \n",
       "target    0.282700  0.307284  0.471712  0.106233 -0.230583  0.142565   \n",
       "\n",
       "           restecg   thalach     exang   oldpeak     slope        ca  \\\n",
       "age       0.212719 -0.365778  0.201626  0.258243  0.155032  0.311194   \n",
       "sex      -0.015612 -0.179320  0.181420  0.103930  0.125154  0.045905   \n",
       "cp        0.031101 -0.349189  0.419384  0.244245  0.202989  0.213678   \n",
       "trestbps  0.098857 -0.104899  0.152328  0.161908  0.063387  0.110024   \n",
       "chol      0.116494  0.236121 -0.034557  0.047734 -0.059276  0.040043   \n",
       "fbs       0.132347 -0.053386  0.029176  0.055277  0.092142  0.122318   \n",
       "restecg   1.000000  0.053120  0.032331  0.118297 -0.014771  0.098393   \n",
       "thalach   0.053120  1.000000 -0.356439 -0.151174 -0.360622 -0.256214   \n",
       "exang     0.032331 -0.356439  1.000000  0.392492  0.319424  0.149447   \n",
       "oldpeak   0.118297 -0.151174  0.392492  1.000000  0.421184  0.250485   \n",
       "slope    -0.014771 -0.360622  0.319424  0.421184  1.000000  0.111782   \n",
       "ca        0.098393 -0.256214  0.149447  0.250485  0.111782  1.000000   \n",
       "thal     -0.040084 -0.327360  0.340737  0.254391  0.290345  0.249141   \n",
       "target    0.063867 -0.394503  0.463619  0.385528  0.337086  0.382010   \n",
       "\n",
       "              thal    target  \n",
       "age       0.137298  0.282700  \n",
       "sex       0.373927  0.307284  \n",
       "cp        0.313150  0.471712  \n",
       "trestbps  0.107555  0.106233  \n",
       "chol     -0.179903 -0.230583  \n",
       "fbs       0.105871  0.142565  \n",
       "restecg  -0.040084  0.063867  \n",
       "thalach  -0.327360 -0.394503  \n",
       "exang     0.340737  0.463619  \n",
       "oldpeak   0.254391  0.385528  \n",
       "slope     0.290345  0.337086  \n",
       "ca        0.249141  0.382010  \n",
       "thal      1.000000  0.498521  \n",
       "target    0.498521  1.000000  "
      ]
     },
     "execution_count": 28,
     "metadata": {},
     "output_type": "execute_result"
    }
   ],
   "source": [
    "# Find the correlation between our independent variables\n",
    "corr_matrix_all = df_all_binary.corr()\n",
    "corr_matrix_row = df_rows_del.corr()\n",
    "corr_matrix_col = df_cols_del.corr()\n",
    "corr_matrix_original = df_original.corr()\n",
    "\n",
    "corr_matrix_all"
   ]
  },
  {
   "cell_type": "code",
   "execution_count": 40,
   "id": "8c5689c7-007b-4623-a544-3ccfaca3246b",
   "metadata": {
    "tags": []
   },
   "outputs": [
    {
     "data": {
      "image/png": "[encoded data removed]",
      "text/plain": [
       "<Figure size 1500x900 with 2 Axes>"
      ]
     },
     "metadata": {},
     "output_type": "display_data"
    }
   ],
   "source": [
    "fig, ax = plt.subplots(figsize=(15,9))\n",
    "sns.heatmap(corr_matrix_all, \n",
    "            ax=ax,\n",
    "            annot=True, \n",
    "            linewidths=0.5, \n",
    "            fmt= \".2f\", \n",
    "            cmap=\"YlGnBu\");"
   ]
  },
  {
   "cell_type": "markdown",
   "id": "977e7f21-f7dd-4b92-a82d-4aa3706e75c7",
   "metadata": {
    "jp-MarkdownHeadingCollapsed": true,
    "tags": []
   },
   "source": [
    "#### Start Modelling df_cols_del"
   ]
  },
  {
   "cell_type": "markdown",
   "id": "b0868541-2ead-4904-a17b-c98023edb0ac",
   "metadata": {},
   "source": [
    "##### Fill Missing Values"
   ]
  },
  {
   "cell_type": "code",
   "execution_count": 121,
   "id": "8f644ec7",
   "metadata": {
    "Collapsed": "false",
    "tags": []
   },
   "outputs": [],
   "source": [
    "from sklearn.impute import SimpleImputer\n",
    "from sklearn.compose import ColumnTransformer\n",
    "np.random.seed(1995)\n",
    "\n",
    "results_cols = [\"Model Name\", \"Acc\", \"Prec\", \"Recall\", \"f1\"]\n",
    "results = []\n",
    "\n",
    "X_cols = df_cols_del.drop([\"target\"], axis=1)\n",
    "Y_cols = df_cols_del[\"target\"]\n",
    "\n",
    "X_train_cols, X_test_cols, y_train_cols, y_test_cols = train_test_split(X_cols, Y_cols,\n",
    "                                                                        test_size = 0.2) \n",
    "mean_imputer = SimpleImputer(strategy=\"mean\")\n",
    "#ca_imputer = SimpleImputer(strategy=\"constant\", fill_value=9)\n",
    "imputer = ColumnTransformer([(\"mean_imputer\",  mean_imputer, [\"trestbps\", \"chol\", \"oldpeak\", \"thalach\"])])\n",
    "\n",
    "# Fill train and test values separately\n",
    "filled_X_train_cols = imputer.fit_transform(X_train_cols)\n",
    "filled_X_test_cols = imputer.transform(X_test_cols)"
   ]
  },
  {
   "cell_type": "markdown",
   "id": "522d5129-5b29-430f-9898-16f0b7219891",
   "metadata": {
    "tags": []
   },
   "source": [
    "##### Use Grid Search"
   ]
  },
  {
   "cell_type": "code",
   "execution_count": 62,
   "id": "92cb6d8f-ff23-4459-9789-fc6da1e9bc75",
   "metadata": {
    "tags": []
   },
   "outputs": [
    {
     "name": "stdout",
     "output_type": "stream",
     "text": [
      "Fitting 5 folds for each of 20 candidates, totalling 100 fits\n"
     ]
    }
   ],
   "source": [
    "# Use Grid search to find best hyperparameters\n",
    "np.random.seed(1995)\n",
    "\n",
    "X_cols = df_cols_del.drop([\"target\"], axis=1)\n",
    "Y_cols = df_cols_del[\"target\"]\n",
    "\n",
    "X_train_cols, X_test_cols, y_train_cols, y_test_cols = train_test_split(X_cols, Y_cols,\n",
    "                                                                        test_size = 0.2)\n",
    "log_reg_grid = {\"C\": np.logspace(-4, 4, 20),\n",
    "                \"solver\": [\"liblinear\"]}\n",
    "gs_log_reg_cols = GridSearchCV(LogisticRegression(),\n",
    "                          param_grid=log_reg_grid,\n",
    "                          cv=5,\n",
    "                          verbose=True)\n",
    "gs_log_reg_cols.fit(filled_X_train_cols, y_train_cols);"
   ]
  },
  {
   "cell_type": "code",
   "execution_count": 118,
   "id": "32d4af69-ba9c-4407-9c49-294b90329908",
   "metadata": {
    "tags": []
   },
   "outputs": [
    {
     "name": "stdout",
     "output_type": "stream",
     "text": [
      "{'C': 206.913808111479, 'solver': 'liblinear'}\n"
     ]
    }
   ],
   "source": [
    "print(gs_log_reg_cols.best_params_)\n",
    "cols_preds = gs_log_reg_cols.predict(filled_X_test_cols)"
   ]
  },
  {
   "cell_type": "code",
   "execution_count": 122,
   "id": "d689e142-1468-401b-a9d4-a69a0b1edac2",
   "metadata": {
    "tags": []
   },
   "outputs": [
    {
     "name": "stdout",
     "output_type": "stream",
     "text": [
      "Cols Acc:  0.7554347826086957\n",
      "\n",
      "Cols Precision:  0.7431192660550459\n",
      "\n",
      "Cols Recall:  0.8214285714285714\n",
      "\n",
      "Cols F1:  0.782608695652174\n",
      "[['df_cols_del', 0.7554347826086957, 0.7431192660550459, 0.826530612244898, 0.782608695652174]]\n"
     ]
    }
   ],
   "source": [
    "acc_cols = gs_log_reg_cols.score(filled_X_test_cols, y_test_cols)\n",
    "prec_cols = precision_score(y_test_cols, cols_preds)\n",
    "recall_cols = recall_score(y_test_cols, cols_preds)\n",
    "f1_cols = f1_score(y_test_cols, cols_preds)\n",
    "\n",
    "print(\"Cols Acc: \", acc_cols)\n",
    "print(\"\\nCols Precision: \", prec_cols)\n",
    "print(\"\\nCols Recall: \", recall_rows)\n",
    "print(\"\\nCols F1: \", f1_cols)\n",
    "\n",
    "#results.append([\"df_cols_del\", acc_cols, prec_cols, recall_cols, f1_cols])\n",
    "results[0] = [\"df_cols_del\", acc_cols, prec_cols, recall_cols, f1_cols]"
   ]
  },
  {
   "cell_type": "markdown",
   "id": "58b2eb10-7974-43b4-a57e-52565ff17c31",
   "metadata": {
    "jp-MarkdownHeadingCollapsed": true,
    "tags": []
   },
   "source": [
    "#### Start Modelling df_rows_del"
   ]
  },
  {
   "cell_type": "code",
   "execution_count": 67,
   "id": "93d96e32-1bf9-4eae-ad20-4ccc51b6aba1",
   "metadata": {
    "tags": []
   },
   "outputs": [
    {
     "name": "stdout",
     "output_type": "stream",
     "text": [
      "Fitting 5 folds for each of 20 candidates, totalling 100 fits\n"
     ]
    }
   ],
   "source": [
    "#### Start Modelling df_rows_del\n",
    "np.random.seed(1995)\n",
    "\n",
    "X_rows = df_rows_del.drop([\"target\"], axis=1)\n",
    "Y_rows = df_rows_del[\"target\"]\n",
    "\n",
    "X_train_rows, X_test_rows, y_train_rows, y_test_rows = train_test_split(X_rows, Y_rows,\n",
    "                                                                        test_size = 0.2)\n",
    "gs_log_reg_rows = GridSearchCV(LogisticRegression(),\n",
    "                          param_grid=log_reg_grid,\n",
    "                          cv=5,\n",
    "                          verbose=True)\n",
    "gs_log_reg_rows.fit(X_train_rows, y_train_rows);"
   ]
  },
  {
   "cell_type": "code",
   "execution_count": 113,
   "id": "6ebbf414-f0a6-473f-972b-849dce1383f2",
   "metadata": {
    "tags": []
   },
   "outputs": [
    {
     "name": "stdout",
     "output_type": "stream",
     "text": [
      "{'C': 1438.44988828766, 'solver': 'liblinear'}\n"
     ]
    }
   ],
   "source": [
    "print(gs_log_reg_rows.best_params_)\n",
    "rows_preds = gs_log_reg_rows.predict(X_test_rows)"
   ]
  },
  {
   "cell_type": "code",
   "execution_count": 123,
   "id": "952f4d67-4ca1-4f24-9e5a-e7aaa15132c9",
   "metadata": {
    "tags": []
   },
   "outputs": [
    {
     "name": "stdout",
     "output_type": "stream",
     "text": [
      "Rows Acc:  0.7833333333333333\n",
      "\n",
      "Rows Precision:  0.7419354838709677\n",
      "\n",
      "Rows Recall:  0.8214285714285714\n",
      "\n",
      "Rows F1:  0.7796610169491526\n"
     ]
    }
   ],
   "source": [
    "acc_rows = gs_log_reg_rows.score(X_test_rows, y_test_rows)\n",
    "prec_rows = precision_score(y_test_rows, rows_preds)\n",
    "recall_rows = recall_score(y_test_rows, rows_preds)\n",
    "f1_rows = f1_score(y_test_rows, rows_preds)\n",
    "\n",
    "print(\"Rows Acc: \", acc_rows)\n",
    "print(\"\\nRows Precision: \", prec_rows)\n",
    "print(\"\\nRows Recall: \", recall_rows)\n",
    "print(\"\\nRows F1: \", f1_rows)\n",
    "\n",
    "#results.append([\"df_rows_del\", acc_rows, prec_rows, recall_rows, f1_rows])\n",
    "results[1] = [\"df_rows_del\", acc_rows, prec_rows, recall_rows, f1_rows]"
   ]
  },
  {
   "cell_type": "markdown",
   "id": "e3f9ebfd-089d-4f41-9a8b-2320f30ee1dd",
   "metadata": {
    "jp-MarkdownHeadingCollapsed": true,
    "tags": []
   },
   "source": [
    "#### Start Modelling crosstab_cp_original"
   ]
  },
  {
   "cell_type": "code",
   "execution_count": 95,
   "id": "6d920b99-a382-4099-8d30-96293988fba5",
   "metadata": {
    "tags": []
   },
   "outputs": [
    {
     "name": "stdout",
     "output_type": "stream",
     "text": [
      "Fitting 5 folds for each of 20 candidates, totalling 100 fits\n"
     ]
    }
   ],
   "source": [
    "#### Start Modelling crosstab_cp_original\n",
    "np.random.seed(1995)\n",
    "\n",
    "X_orig = df_original.drop([\"target\"], axis=1)\n",
    "Y_orig = df_original[\"target\"]\n",
    "\n",
    "X_train_orig, X_test_orig, y_train_orig, y_test_orig = train_test_split(X_orig, Y_orig,\n",
    "                                                                        test_size = 0.2)\n",
    "gs_log_reg_orig = GridSearchCV(LogisticRegression(),\n",
    "                          param_grid=log_reg_grid,\n",
    "                          cv=5,\n",
    "                          verbose=True)\n",
    "gs_log_reg_orig.fit(X_train_orig, y_train_orig);"
   ]
  },
  {
   "cell_type": "code",
   "execution_count": 107,
   "id": "81b8677a-2e54-405c-b308-377777daef16",
   "metadata": {
    "tags": []
   },
   "outputs": [
    {
     "name": "stdout",
     "output_type": "stream",
     "text": [
      "{'C': 0.615848211066026, 'solver': 'liblinear'}\n"
     ]
    }
   ],
   "source": [
    "gs_log_reg_orig.best_params_\n",
    "orig_preds = gs_log_reg_orig.predict(X_test_orig)\n",
    "print(gs_log_reg_orig.best_params_)"
   ]
  },
  {
   "cell_type": "code",
   "execution_count": 124,
   "id": "41abe0e1-e143-48df-9417-b2d068d0d84e",
   "metadata": {
    "tags": []
   },
   "outputs": [
    {
     "name": "stdout",
     "output_type": "stream",
     "text": [
      "Orig Acc:  0.7868852459016393\n",
      "\n",
      "Orig Precision:  0.7073170731707317\n",
      "\n",
      "Orig Recall:  0.9666666666666667\n",
      "\n",
      "Orig F1:  0.8169014084507042\n"
     ]
    }
   ],
   "source": [
    "acc_orig = gs_log_reg_orig.score(X_test_orig, y_test_orig)\n",
    "prec_orig = precision_score(y_test_orig, orig_preds)\n",
    "recall_orig = recall_score(y_test_orig, orig_preds)\n",
    "f1_orig = f1_score(y_test_orig, orig_preds)\n",
    "\n",
    "print(\"Orig Acc: \", acc_orig)\n",
    "print(\"\\nOrig Precision: \", prec_orig)\n",
    "print(\"\\nOrig Recall: \", recall_orig)\n",
    "print(\"\\nOrig F1: \", f1_orig)\n",
    "\n",
    "#results.append([\"df_original\", acc_orig, prec_orig, recall_orig, f1_orig])\n",
    "results[2] = [\"df_original\", acc_orig, prec_orig, recall_orig, f1_orig]"
   ]
  },
  {
   "cell_type": "markdown",
   "id": "0657fe13-dc2b-4b12-af02-0509b1a41f36",
   "metadata": {
    "jp-MarkdownHeadingCollapsed": true,
    "tags": []
   },
   "source": [
    "#### Start Modelling crosstab_cp_original - cols"
   ]
  },
  {
   "cell_type": "code",
   "execution_count": 102,
   "id": "d8babf37-3b54-4417-810e-faa994ac5153",
   "metadata": {
    "tags": []
   },
   "outputs": [
    {
     "name": "stdout",
     "output_type": "stream",
     "text": [
      "Fitting 5 folds for each of 20 candidates, totalling 100 fits\n"
     ]
    }
   ],
   "source": [
    "#### Start Modelling crosstab_cp_original - cols [\"trestbps\", \"chol\", \"thalach\"]\n",
    "np.random.seed(1995)\n",
    "\n",
    "X_orig_drp = df_original.drop([\"target\", \"trestbps\", \"chol\", \"thalach\"], axis=1)\n",
    "Y_orig_drp = df_original[\"target\"]\n",
    "\n",
    "X_train_orig_drp, X_test_orig_drp, y_train_orig_drp, y_test_orig_drp = train_test_split(X_orig_drp, Y_orig_drp,\n",
    "                                                                        test_size = 0.2)\n",
    "gs_log_reg_orig_drp = GridSearchCV(LogisticRegression(),\n",
    "                          param_grid=log_reg_grid,\n",
    "                          cv=5,\n",
    "                          verbose=True)\n",
    "gs_log_reg_orig_drp.fit(X_train_orig_drp, y_train_orig_drp);"
   ]
  },
  {
   "cell_type": "code",
   "execution_count": 103,
   "id": "f1aa7009-5e06-4401-9c95-309f3bca43cf",
   "metadata": {
    "tags": []
   },
   "outputs": [
    {
     "name": "stdout",
     "output_type": "stream",
     "text": [
      "{'C': 78.47599703514607, 'solver': 'liblinear'}\n"
     ]
    }
   ],
   "source": [
    "orig_drp_params = gs_log_reg_orig_drp.best_params_\n",
    "orig_drp_preds = gs_log_reg_orig_drp.predict(X_test_orig_drp)\n",
    "print(orig_drp_params)"
   ]
  },
  {
   "cell_type": "code",
   "execution_count": 127,
   "id": "d70ea574-2115-47c1-969c-1e4c266d3674",
   "metadata": {
    "tags": []
   },
   "outputs": [
    {
     "name": "stdout",
     "output_type": "stream",
     "text": [
      "Orig_drp Acc:  0.7868852459016393\n",
      "\n",
      "Orig_drp Precision:  0.7073170731707317\n",
      "\n",
      "Orig_drp Recall:  0.9666666666666667\n",
      "\n",
      "Orig_drp F1:  0.8169014084507042\n"
     ]
    }
   ],
   "source": [
    "acc_orig_drp = gs_log_reg_orig_drp.score(X_test_orig_drp, y_test_orig_drp)\n",
    "prec_orig_drp = precision_score(y_test_orig_drp, orig_drp_preds)\n",
    "recall_orig_drp = recall_score(y_test_orig_drp, orig_drp_preds)\n",
    "f1_orig_drp = f1_score(y_test_orig_drp, orig_drp_preds)\n",
    "\n",
    "print(\"Orig_drp Acc: \", acc_orig_drp)\n",
    "print(\"\\nOrig_drp Precision: \", prec_orig_drp)\n",
    "print(\"\\nOrig_drp Recall: \", recall_orig_drp)\n",
    "print(\"\\nOrig_drp F1: \", f1_orig_drp)\n",
    "\n",
    "#results.append([\"orig_drp\", acc_orig_drp, prec_orig_drp, recall_orig_drp, f1_orig_drp])\n",
    "results[3] = [\"orig_drp\", acc_orig_drp, prec_orig_drp, recall_orig_drp, f1_orig_drp]"
   ]
  },
  {
   "cell_type": "markdown",
   "id": "aa9926f5-f895-4265-ba80-18c7d6e44523",
   "metadata": {},
   "source": [
    "#### Comparing Results"
   ]
  },
  {
   "cell_type": "code",
   "execution_count": 146,
   "id": "a4890b14-f102-4594-80a0-228b11da2dda",
   "metadata": {
    "tags": []
   },
   "outputs": [
    {
     "data": {
      "text/html": [
       "<div>\n",
       "<style scoped>\n",
       "    .dataframe tbody tr th:only-of-type {\n",
       "        vertical-align: middle;\n",
       "    }\n",
       "\n",
       "    .dataframe tbody tr th {\n",
       "        vertical-align: top;\n",
       "    }\n",
       "\n",
       "    .dataframe thead th {\n",
       "        text-align: right;\n",
       "    }\n",
       "</style>\n",
       "<table border=\"1\" class=\"dataframe\">\n",
       "  <thead>\n",
       "    <tr style=\"text-align: right;\">\n",
       "      <th>Model Name</th>\n",
       "      <th>df_cols_del</th>\n",
       "      <th>df_rows_del</th>\n",
       "      <th>df_original</th>\n",
       "      <th>orig_drp</th>\n",
       "    </tr>\n",
       "  </thead>\n",
       "  <tbody>\n",
       "    <tr>\n",
       "      <th>Acc</th>\n",
       "      <td>0.755435</td>\n",
       "      <td>0.783333</td>\n",
       "      <td>0.786885</td>\n",
       "      <td>0.786885</td>\n",
       "    </tr>\n",
       "    <tr>\n",
       "      <th>Prec</th>\n",
       "      <td>0.743119</td>\n",
       "      <td>0.741935</td>\n",
       "      <td>0.707317</td>\n",
       "      <td>0.707317</td>\n",
       "    </tr>\n",
       "    <tr>\n",
       "      <th>Recall</th>\n",
       "      <td>0.826531</td>\n",
       "      <td>0.821429</td>\n",
       "      <td>0.966667</td>\n",
       "      <td>0.966667</td>\n",
       "    </tr>\n",
       "    <tr>\n",
       "      <th>f1</th>\n",
       "      <td>0.782609</td>\n",
       "      <td>0.779661</td>\n",
       "      <td>0.816901</td>\n",
       "      <td>0.816901</td>\n",
       "    </tr>\n",
       "  </tbody>\n",
       "</table>\n",
       "</div>"
      ],
      "text/plain": [
       "Model Name  df_cols_del  df_rows_del  df_original  orig_drp\n",
       "Acc            0.755435     0.783333     0.786885  0.786885\n",
       "Prec           0.743119     0.741935     0.707317  0.707317\n",
       "Recall         0.826531     0.821429     0.966667  0.966667\n",
       "f1             0.782609     0.779661     0.816901  0.816901"
      ]
     },
     "execution_count": 146,
     "metadata": {},
     "output_type": "execute_result"
    }
   ],
   "source": [
    "results_df = pd.DataFrame(data=results, columns=results_cols).set_index(\"Model Name\")\n",
    "results_T = results_df.T\n",
    "results_T"
   ]
  },
  {
   "cell_type": "code",
   "execution_count": 158,
   "id": "6dfe1128-7b26-4a69-b41e-6a4748e5d359",
   "metadata": {
    "tags": []
   },
   "outputs": [
    {
     "data": {
      "image/png": "[encoded data removed]",
      "text/plain": [
       "<Figure size 1200x700 with 1 Axes>"
      ]
     },
     "metadata": {},
     "output_type": "display_data"
    }
   ],
   "source": [
    "fig, ax1 = plt.subplots(figsize=(12,7))\n",
    "\n",
    "results_df.transpose().plot.bar( ax=ax1, rot=0,\n",
    "         title=\"Model Metrics\",\n",
    "         xlabel=\"Metrics\",\n",
    "         ylabel=\"Value\",\n",
    "         legend=True,\n",
    "         color=[\"lightblue\", \"salmon\", (0.5,0.1,0.5,0.6), '#69b3a2']);"
   ]
  },
  {
   "cell_type": "markdown",
   "id": "0f11b734-a2ff-48d8-b4ca-6ceebdd31cb3",
   "metadata": {
    "jp-MarkdownHeadingCollapsed": true,
    "tags": []
   },
   "source": [
    "#### Compare TP, TN, FP, FN"
   ]
  },
  {
   "cell_type": "code",
   "execution_count": null,
   "id": "3087f758-2fb0-4edb-82fa-ac2549f99159",
   "metadata": {},
   "outputs": [],
   "source": [
    "#### TP TN FP FN"
   ]
  },
  {
   "cell_type": "markdown",
   "id": "81219889-ca0f-42ed-b8f9-97e7f7cfaf00",
   "metadata": {},
   "source": [
    "# Final Results"
   ]
  },
  {
   "cell_type": "markdown",
   "id": "682f5b93-3ee4-4812-b481-12ef60ce5d3d",
   "metadata": {},
   "source": [
    "Finally, the best model so far based on *Recall, Accurancy,* and *F1* is the **original** dataset (303 rows).\n",
    "  -  Acc: 78.69%\n",
    "  -  Recall: 96.67%\n",
    "  -  F1: 81.69%\n",
    "\n",
    "The best model based on *Precision* is the **New/Full dataset** with the columns removed (920 rows).  \n",
    "The score is **74.31%** vs 70.73% of the original data set. \n"
   ]
  },
  {
   "cell_type": "code",
   "execution_count": 160,
   "id": "3ae71d81-1cfa-4714-bfb2-34962f3284fd",
   "metadata": {
    "tags": []
   },
   "outputs": [
    {
     "data": {
      "text/plain": [
       "920"
      ]
     },
     "execution_count": 160,
     "metadata": {},
     "output_type": "execute_result"
    }
   ],
   "source": [
    "len(df_cols_del)"
   ]
  },
  {
   "cell_type": "code",
   "execution_count": null,
   "id": "934e7d19-6e6f-4620-82a6-2574f22c5e61",
   "metadata": {},
   "outputs": [],
   "source": []
  }
 ],
 "metadata": {
  "kernelspec": {
   "display_name": "Python 3 (ipykernel)",
   "language": "python",
   "name": "python3"
  },
  "language_info": {
   "codemirror_mode": {
    "name": "ipython",
    "version": 3
   },
   "file_extension": ".py",
   "mimetype": "text/x-python",
   "name": "python",
   "nbconvert_exporter": "python",
   "pygments_lexer": "ipython3",
   "version": "3.11.4"
  }
 },
 "nbformat": 4,
 "nbformat_minor": 5
}
